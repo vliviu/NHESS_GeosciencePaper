{
 "cells": [
  {
   "cell_type": "code",
   "execution_count": null,
   "id": "387c3af4",
   "metadata": {},
   "outputs": [],
   "source": [
    "# needs TF so: conda activate tensorflow-gpu \n",
    "import keras\n",
    "import pandas as pd\n",
    "from keras.models import Sequential\n",
    "from keras.layers import Dense\n",
    "from sklearn.metrics import mean_squared_error\n",
    "from sklearn.model_selection import train_test_split"
   ]
  },
  {
   "cell_type": "code",
   "execution_count": null,
   "id": "b57abbc6",
   "metadata": {},
   "outputs": [],
   "source": [
    "# Load the CSV file\n",
    "df = pd.read_csv(r'data/data.csv')\n",
    "\n",
    "df.head()"
   ]
  },
  {
   "cell_type": "code",
   "execution_count": null,
   "id": "e44b32af",
   "metadata": {},
   "outputs": [],
   "source": [
    "# We'll split the data into input features and the target variable, MMI:\n",
    "data = df\n",
    "X = data[['M', 'logR', 'PGA', 'Ia', 'CAV']]\n",
    "y = data['MMI']"
   ]
  },
  {
   "cell_type": "code",
   "execution_count": null,
   "id": "f7b4f9ca",
   "metadata": {},
   "outputs": [],
   "source": [
    "# Next, we generate training & testing sets:\n",
    "X_train, X_test, y_train, y_test = train_test_split(X, y, test_size=0.2, random_state=42)\n"
   ]
  },
  {
   "cell_type": "code",
   "execution_count": null,
   "id": "3c36d6b5",
   "metadata": {},
   "outputs": [],
   "source": [
    "# we generate the DL model: we use fully-connected CNN w. 1 hidden layer:\n",
    "model = Sequential()\n",
    "model.add(Dense(10, input_dim=5, activation='relu'))\n",
    "model.add(Dense(1))"
   ]
  },
  {
   "cell_type": "code",
   "execution_count": null,
   "id": "39fbee61",
   "metadata": {},
   "outputs": [],
   "source": [
    "# Next, we'll compile the model and specify the loss function and optimizer:\n",
    "\n",
    "model.compile(loss='mse', optimizer='adam')"
   ]
  },
  {
   "cell_type": "code",
   "execution_count": null,
   "id": "3918c730",
   "metadata": {},
   "outputs": [],
   "source": [
    "# we train the model:\n",
    "history = model.fit(X_train, y_train, epochs=100, batch_size=32, validation_data=(X_test, y_test))"
   ]
  },
  {
   "cell_type": "code",
   "execution_count": null,
   "id": "02c36fd8",
   "metadata": {},
   "outputs": [],
   "source": [
    "# We evaluate the model against the testing set:\n",
    "mse = model.evaluate(X_test, y_test)\n"
   ]
  },
  {
   "cell_type": "code",
   "execution_count": null,
   "id": "4198e421",
   "metadata": {},
   "outputs": [],
   "source": [
    "# to get the error of the predicted, we use the MSE:\n",
    "y_pred = model.predict(X_test)\n",
    "mse = mean_squared_error(y_test, y_pred)"
   ]
  },
  {
   "cell_type": "code",
   "execution_count": null,
   "id": "7fe517bb",
   "metadata": {},
   "outputs": [],
   "source": [
    "print(mse)"
   ]
  },
  {
   "cell_type": "code",
   "execution_count": null,
   "id": "4560173b",
   "metadata": {},
   "outputs": [],
   "source": [
    "!jupyter nbconvert --to script nonlinearRegression.ipynb"
   ]
  }
 ],
 "metadata": {
  "kernelspec": {
   "display_name": "Python 3 (ipykernel)",
   "language": "python",
   "name": "python3"
  },
  "language_info": {
   "codemirror_mode": {
    "name": "ipython",
    "version": 3
   },
   "file_extension": ".py",
   "mimetype": "text/x-python",
   "name": "python",
   "nbconvert_exporter": "python",
   "pygments_lexer": "ipython3",
   "version": "3.10.4"
  }
 },
 "nbformat": 4,
 "nbformat_minor": 5
}
